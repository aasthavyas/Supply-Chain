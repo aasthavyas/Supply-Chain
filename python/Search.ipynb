{
 "cells": [
  {
   "cell_type": "code",
   "execution_count": 1,
   "metadata": {},
   "outputs": [],
   "source": [
    "import pandas as pd\n",
    "import numpy as np\n",
    "from sklearn.feature_extraction.text import TfidfVectorizer, CountVectorizer\n",
    "\n",
    "excel = pd.read_excel(\"E:\\\\Documents\\\\Downloads\\\\Data.xlsx\")\n",
    "\n",
    "def search_project(x):\n",
    "    for i in range(0,1329):\n",
    "        if excel[\"Project Number\"][i] == x:\n",
    "            print(excel['Description'][i])\n",
    "\n",
    "\n",
    "def search_word(word):        #string\n",
    "    vect = TfidfVectorizer(min_df = 6, ngram_range=(1,2)).fit(excel['Description'])\n",
    "    description_vectorized = vect.transform(excel['Description'])\n",
    "    df1 = pd.DataFrame(description_vectorized.toarray(), columns=vect.get_feature_names())\n",
    "    \n",
    "    temp_df = pd.DataFrame()\n",
    "    \n",
    "    cols = vect.get_feature_names()\n",
    "    \n",
    "    if word in cols:\n",
    "        temp_df[\"Project_Number\"] = excel[\"Project Number\"]\n",
    "        temp_df[\"word\"] = df1[word]\n",
    "        sorted_temp_df = temp_df.sort_values('word', ascending=False)\n",
    "        sorted_temp_df.reset_index(drop=True, inplace=True)\n",
    "        lst = []\n",
    "        for i in range(0, 10):\n",
    "            lst.append(sorted_temp_df['Project_Number'][i])\n",
    "        return lst           #list\n",
    "    else:\n",
    "        return(-1)"
   ]
  },
  {
   "cell_type": "code",
   "execution_count": 2,
   "metadata": {},
   "outputs": [
    {
     "name": "stdout",
     "output_type": "stream",
     "text": [
      "Enter Project:Project 1\n",
      "Wyoming Oil Deal 35 BOPD $1.7m\n",
      "Current production: 35 BOPD\n",
      "Location: BYRON, Wyoming\n",
      "680 Acres N0N-Contigious.\n",
      "4-leases with 5 wells.\n",
      "Upside is room to drill 7 more wells.\n",
      "Producing from Phosphoria formation, and Tensleep Formation.\n",
      "NRI average of all 4 leases 79.875%\n",
      "Asking $1.7 Million\n"
     ]
    }
   ],
   "source": [
    "Project = input(\"Enter Project:\")\n",
    "search_project(Project)"
   ]
  },
  {
   "cell_type": "code",
   "execution_count": 3,
   "metadata": {},
   "outputs": [
    {
     "name": "stdout",
     "output_type": "stream",
     "text": [
      "Enter Word:gold\n"
     ]
    },
    {
     "data": {
      "text/plain": [
       "['Project 21',\n",
       " 'Project 24',\n",
       " 'Project 3',\n",
       " 'Project 842',\n",
       " 'Project 559',\n",
       " 'Project 1228',\n",
       " 'Project 26',\n",
       " 'Project 77',\n",
       " 'Project 1009',\n",
       " 'Project 590']"
      ]
     },
     "execution_count": 3,
     "metadata": {},
     "output_type": "execute_result"
    }
   ],
   "source": [
    "s_word = input(\"Enter Word:\")\n",
    "search_word(s_word)"
   ]
  },
  {
   "cell_type": "code",
   "execution_count": null,
   "metadata": {},
   "outputs": [],
   "source": []
  }
 ],
 "metadata": {
  "kernelspec": {
   "display_name": "Python 3",
   "language": "python",
   "name": "python3"
  },
  "language_info": {
   "codemirror_mode": {
    "name": "ipython",
    "version": 3
   },
   "file_extension": ".py",
   "mimetype": "text/x-python",
   "name": "python",
   "nbconvert_exporter": "python",
   "pygments_lexer": "ipython3",
   "version": "3.7.3"
  }
 },
 "nbformat": 4,
 "nbformat_minor": 2
}
